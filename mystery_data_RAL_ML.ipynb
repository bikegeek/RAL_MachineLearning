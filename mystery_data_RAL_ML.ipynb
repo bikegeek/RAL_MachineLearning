{
 "cells": [
  {
   "cell_type": "code",
   "execution_count": 11,
   "metadata": {},
   "outputs": [],
   "source": [
    "import pandas as pd\n",
    "import numpy as np\n",
    "import matplotlib.pyplot as plt\n",
    "from sklearn.linear_model import LinearRegression\n",
    "from sklearn.tree import DecisionTreeRegressor\n",
    "import seaborn as sns\n",
    "from sklearn.metrics import mean_squared_error,r2_score\n",
    "%matplotlib inline\n"
   ]
  },
  {
   "cell_type": "code",
   "execution_count": 12,
   "metadata": {},
   "outputs": [],
   "source": [
    "def fit_and_plot_model(df, model):\n",
    "    # Create feature and target\n",
    "    feature = df.drop('y', axis=1)\n",
    "    target = df.y\n",
    "    \n",
    "    # Generate the linear regression model based on the data\n",
    "    model.fit(feature, target)\n",
    "    \n",
    "    # Plot the data\n",
    "    plt.scatter(df.x, df.y)\n",
    "\n",
    "    # Plot the linear regression line\n",
    "    plt.plot(df.x, model.predict(feature), 'r--')\n",
    "    plt.show()\n",
    "    \n",
    "    return model"
   ]
  },
  {
   "cell_type": "code",
   "execution_count": 13,
   "metadata": {},
   "outputs": [],
   "source": [
    "df_train = pd.read_csv('./train.csv')\n",
    "# Load the test data\n",
    "df_test = pd.read_csv('./test.csv')"
   ]
  },
  {
   "cell_type": "code",
   "execution_count": 14,
   "metadata": {},
   "outputs": [],
   "source": [
    "feature_train = df_train.drop('y', axis=1)\n",
    "target_train=df_train.y\n"
   ]
  },
  {
   "cell_type": "code",
   "execution_count": 15,
   "metadata": {},
   "outputs": [
    {
     "data": {
      "text/plain": [
       "LinearRegression(copy_X=True, fit_intercept=True, n_jobs=None,\n",
       "         normalize=False)"
      ]
     },
     "execution_count": 15,
     "metadata": {},
     "output_type": "execute_result"
    }
   ],
   "source": [
    "lm_train = LinearRegression()\n",
    "lm_train"
   ]
  },
  {
   "cell_type": "code",
   "execution_count": 16,
   "metadata": {},
   "outputs": [
    {
     "data": {
      "text/plain": [
       "LinearRegression(copy_X=True, fit_intercept=True, n_jobs=None,\n",
       "         normalize=False)"
      ]
     },
     "execution_count": 16,
     "metadata": {},
     "output_type": "execute_result"
    }
   ],
   "source": [
    "# train the model \n",
    "lm_train.fit(feature_train, target_train)"
   ]
  },
  {
   "cell_type": "code",
   "execution_count": 17,
   "metadata": {},
   "outputs": [],
   "source": [
    "# Split up the test data into feature and target\n",
    "feature_test = df_test.drop('y', axis=1)\n",
    "target_test = df_test.y\n"
   ]
  },
  {
   "cell_type": "code",
   "execution_count": 18,
   "metadata": {},
   "outputs": [],
   "source": [
    "# perform prediction using the test data\n",
    "target_pred = lm_train.predict(feature_test)"
   ]
  },
  {
   "cell_type": "code",
   "execution_count": 19,
   "metadata": {},
   "outputs": [
    {
     "name": "stdout",
     "output_type": "stream",
     "text": [
      " MSE for linear regression: 679.2399376360044\n"
     ]
    }
   ],
   "source": [
    "# MEAN SQUARED ERROR from training linear regression model on data\n",
    "print(f' MSE for linear regression: {mean_squared_error(target_test, target_pred)}')\n",
    "\n",
    "#save results in a dictionary, key=model value=mean squared error value\n",
    "results_dict = {}\n",
    "results_dict['Linear Regressor'] = mean_squared_error(target_test, target_pred)\n"
   ]
  },
  {
   "cell_type": "code",
   "execution_count": 20,
   "metadata": {},
   "outputs": [
    {
     "data": {
      "text/plain": [
       "{'Linear Regressor': 679.2399376360044}"
      ]
     },
     "execution_count": 20,
     "metadata": {},
     "output_type": "execute_result"
    }
   ],
   "source": [
    "results_dict"
   ]
  },
  {
   "cell_type": "code",
   "execution_count": 21,
   "metadata": {},
   "outputs": [
    {
     "data": {
      "text/plain": [
       "[<matplotlib.lines.Line2D at 0x1a1a3a6f60>]"
      ]
     },
     "execution_count": 21,
     "metadata": {},
     "output_type": "execute_result"
    },
    {
     "data": {
      "image/png": "[encoded data removed]",
      "text/plain": [
       "<Figure size 432x288 with 1 Axes>"
      ]
     },
     "metadata": {
      "needs_background": "light"
     },
     "output_type": "display_data"
    }
   ],
   "source": [
    "# Plot results to visualize how poorly the linear regression model models the test data\n",
    "plt.scatter(feature_test, target_test, color='black')\n",
    "plt.plot(feature_test, target_pred, color='blue')"
   ]
  },
  {
   "cell_type": "markdown",
   "metadata": {},
   "source": [
    " "
   ]
  },
  {
   "cell_type": "markdown",
   "metadata": {},
   "source": [
    "#Now let's try a random forest"
   ]
  },
  {
   "cell_type": "code",
   "execution_count": 36,
   "metadata": {},
   "outputs": [
    {
     "data": {
      "text/plain": [
       "DecisionTreeRegressor(criterion='mse', max_depth=None, max_features=None,\n",
       "           max_leaf_nodes=None, min_impurity_decrease=0.0,\n",
       "           min_impurity_split=None, min_samples_leaf=1,\n",
       "           min_samples_split=2, min_weight_fraction_leaf=0.0,\n",
       "           presort=False, random_state=None, splitter='best')"
      ]
     },
     "execution_count": 36,
     "metadata": {},
     "output_type": "execute_result"
    }
   ],
   "source": [
    "# Don't constrain the random forest, use default settings\n",
    "dtr = DecisionTreeRegressor()\n",
    "dtr.fit(feature_train, target_train)\n",
    "dtr"
   ]
  },
  {
   "cell_type": "code",
   "execution_count": 45,
   "metadata": {},
   "outputs": [],
   "source": [
    "rf_pred = dtr.predict(feature_test)"
   ]
  },
  {
   "cell_type": "code",
   "execution_count": 57,
   "metadata": {},
   "outputs": [],
   "source": [
    "\n",
    "results_dict['Random Forest default'] = mean_squared_error(target_test, rf_pred)"
   ]
  },
  {
   "cell_type": "code",
   "execution_count": 66,
   "metadata": {},
   "outputs": [
    {
     "data": {
      "text/plain": [
       "DecisionTreeRegressor(criterion='mse', max_depth=3, max_features=None,\n",
       "           max_leaf_nodes=None, min_impurity_decrease=0.0,\n",
       "           min_impurity_split=None, min_samples_leaf=1,\n",
       "           min_samples_split=2, min_weight_fraction_leaf=0.0,\n",
       "           presort=False, random_state=None, splitter='best')"
      ]
     },
     "execution_count": 66,
     "metadata": {},
     "output_type": "execute_result"
    }
   ],
   "source": [
    "# Constrain the max depth=3\n",
    "dtr_d3 = DecisionTreeRegressor(max_depth=3)\n",
    "dtr_d3.fit(feature_train, target_train)"
   ]
  },
  {
   "cell_type": "code",
   "execution_count": 68,
   "metadata": {},
   "outputs": [],
   "source": [
    "rf_pred_d3 = dtr_d3.predict(feature_test)\n",
    "results_dict['Random Forest max_depth=3'] = mean_squared_error(target_test, rf_pred_d3)"
   ]
  },
  {
   "cell_type": "code",
   "execution_count": 69,
   "metadata": {},
   "outputs": [
    {
     "data": {
      "text/plain": [
       "{'Linear Regressor': 679.2399376360044,\n",
       " 'Random Forest default': 205.87845997706108,\n",
       " 'Random Forest max_depth=3': 154.81535456701025}"
      ]
     },
     "execution_count": 69,
     "metadata": {},
     "output_type": "execute_result"
    }
   ],
   "source": [
    "results_dict"
   ]
  },
  {
   "cell_type": "code",
   "execution_count": 74,
   "metadata": {},
   "outputs": [],
   "source": [
    "# Max depth=3 max_leaf_nodes=3\n",
    "dtr_d3_l3 = DecisionTreeRegressor(max_depth=3,max_leaf_nodes=3)\n",
    "dtr_d3_l3.fit(feature_train, target_train)\n",
    "rf_pred_d3_l3= dtr_d3_l3.predict(feature_test)\n",
    "results_dict['Random Forest max_depth=3 max_leaf_node=3'] = mean_squared_error(target_test, rf_pred_d3_l3)"
   ]
  },
  {
   "cell_type": "code",
   "execution_count": 75,
   "metadata": {},
   "outputs": [
    {
     "data": {
      "text/plain": [
       "{'Linear Regressor': 679.2399376360044,\n",
       " 'Random Forest default': 205.87845997706108,\n",
       " 'Random Forest max_depth=3': 154.81535456701025,\n",
       " 'Random Forest max_depth=3 max_leaf_node=3': 264.0789251219443}"
      ]
     },
     "execution_count": 75,
     "metadata": {},
     "output_type": "execute_result"
    }
   ],
   "source": [
    "results_dict"
   ]
  },
  {
   "cell_type": "code",
   "execution_count": 78,
   "metadata": {},
   "outputs": [],
   "source": [
    "# Max leaf nodes=3 only, to limit the number of leaf nodes\n",
    "dtr_l3 = DecisionTreeRegressor(max_leaf_nodes=3)\n",
    "dtr_l3.fit(feature_train, target_train)\n",
    "rf_pred_l3 = dtr_l3.predict(feature_test)\n",
    "results_dict['Random Forest max_leaf_nodes=3'] = mean_squared_error(target_test, rf_pred_l3)\n"
   ]
  },
  {
   "cell_type": "code",
   "execution_count": 79,
   "metadata": {},
   "outputs": [
    {
     "data": {
      "text/plain": [
       "{'Linear Regressor': 679.2399376360044,\n",
       " 'Random Forest default': 205.87845997706108,\n",
       " 'Random Forest max_depth=3': 154.81535456701025,\n",
       " 'Random Forest max_depth=3 max_leaf_node=3': 264.0789251219443,\n",
       " 'Random Forest max_leaf_nodes=3': 264.0789251219443}"
      ]
     },
     "execution_count": 79,
     "metadata": {},
     "output_type": "execute_result"
    }
   ],
   "source": [
    "results_dict"
   ]
  },
  {
   "cell_type": "code",
   "execution_count": 81,
   "metadata": {},
   "outputs": [],
   "source": [
    "# Now try max_depth=5\n",
    "dtr_d5 = DecisionTreeRegressor(max_depth=5)\n",
    "dtr_d5.fit(feature_train, target_train)\n",
    "rf_pred_d5 = dtr_d5.predict(feature_test)\n",
    "results_dict['Random Forest max_depth=5'] = mean_squared_error(target_test, rf_pred_d5)"
   ]
  },
  {
   "cell_type": "code",
   "execution_count": 82,
   "metadata": {},
   "outputs": [
    {
     "data": {
      "text/plain": [
       "{'Linear Regressor': 679.2399376360044,\n",
       " 'Random Forest default': 205.87845997706108,\n",
       " 'Random Forest max_depth=3': 154.81535456701025,\n",
       " 'Random Forest max_depth=3 max_leaf_node=3': 264.0789251219443,\n",
       " 'Random Forest max_leaf_nodes=3': 264.0789251219443,\n",
       " 'Random Forest max_depth=5': 132.96395912799343}"
      ]
     },
     "execution_count": 82,
     "metadata": {},
     "output_type": "execute_result"
    }
   ],
   "source": [
    "results_dict"
   ]
  },
  {
   "cell_type": "code",
   "execution_count": 84,
   "metadata": {},
   "outputs": [],
   "source": [
    "# Now try max_depth=7\n",
    "dtr_d7 = DecisionTreeRegressor(max_depth=7)\n",
    "dtr_d7.fit(feature_train, target_train)\n",
    "rf_pred_d7=dtr_d7.predict(feature_test)\n",
    "results_dict['Random Forest max_depth=7'] = mean_squared_error(feature_test, rf_pred_d7)"
   ]
  },
  {
   "cell_type": "code",
   "execution_count": 85,
   "metadata": {},
   "outputs": [
    {
     "data": {
      "text/plain": [
       "{'Linear Regressor': 679.2399376360044,\n",
       " 'Random Forest default': 205.87845997706108,\n",
       " 'Random Forest max_depth=3': 154.81535456701025,\n",
       " 'Random Forest max_depth=3 max_leaf_node=3': 264.0789251219443,\n",
       " 'Random Forest max_leaf_nodes=3': 264.0789251219443,\n",
       " 'Random Forest max_depth=5': 132.96395912799343,\n",
       " 'Random Forest max_depth=7': 748.531951403879}"
      ]
     },
     "execution_count": 85,
     "metadata": {},
     "output_type": "execute_result"
    }
   ],
   "source": [
    "results_dict"
   ]
  },
  {
   "cell_type": "code",
   "execution_count": null,
   "metadata": {},
   "outputs": [],
   "source": [
    "# The best result, lower MSE is observed for the Random Forest model with a max depth of 5; MSE = 132.96"
   ]
  }
 ],
 "metadata": {
  "kernelspec": {
   "display_name": "Python 3",
   "language": "python",
   "name": "python3"
  },
  "language_info": {
   "codemirror_mode": {
    "name": "ipython",
    "version": 3
   },
   "file_extension": ".py",
   "mimetype": "text/x-python",
   "name": "python",
   "nbconvert_exporter": "python",
   "pygments_lexer": "ipython3",
   "version": "3.7.3"
  }
 },
 "nbformat": 4,
 "nbformat_minor": 4
}
